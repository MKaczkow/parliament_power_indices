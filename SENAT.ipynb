{
 "cells": [
  {
   "cell_type": "code",
   "execution_count": null,
   "metadata": {},
   "outputs": [],
   "source": [
    "import powerindex as px"
   ]
  },
  {
   "cell_type": "markdown",
   "metadata": {},
   "source": [
    "## Data"
   ]
  },
  {
   "cell_type": "code",
   "execution_count": null,
   "metadata": {},
   "outputs": [],
   "source": [
    "total_seats = 100\n",
    "simple_majority_threshold = 51"
   ]
  },
  {
   "cell_type": "code",
   "execution_count": null,
   "metadata": {},
   "outputs": [],
   "source": [
    "united_right = {\n",
    "    'seats': 46\n",
    "}\n",
    "\n",
    "civic_coalition = {\n",
    "    'seats': 40\n",
    "}\n",
    "\n",
    "polish_coalition = {\n",
    "    'seats': 4\n",
    "}\n",
    "\n",
    "others = {\n",
    "    'seats': 10\n",
    "}"
   ]
  },
  {
   "cell_type": "markdown",
   "metadata": {},
   "source": [
    "## Example"
   ]
  },
  {
   "cell_type": "code",
   "execution_count": null,
   "metadata": {},
   "outputs": [],
   "source": [
    "game=px.Game(\n",
    "    quota=simple_majority_threshold,\n",
    "    weights=[\n",
    "            united_right['seats'],\n",
    "            civic_coalition['seats'],\n",
    "            polish_coalition['seats'],\n",
    "            others['seats']\n",
    "        ]\n",
    "    )\n",
    "    \n",
    "game.calc()\n",
    "print(\"Banzhaf index:\")\n",
    "print(game.banzhaf)\n",
    "print(\"Shapley-Shubik index:\")\n",
    "print(game.shapley_shubik)"
   ]
  },
  {
   "cell_type": "code",
   "execution_count": null,
   "metadata": {},
   "outputs": [],
   "source": []
  }
 ],
 "metadata": {
  "interpreter": {
   "hash": "d1cdd3a6312bed8b258ae955b62335abc81c42bd084a8b7a08ade2405c52520c"
  },
  "kernelspec": {
   "display_name": "Python 3.9.7 ('venv': venv)",
   "language": "python",
   "name": "python3"
  },
  "language_info": {
   "codemirror_mode": {
    "name": "ipython",
    "version": 3
   },
   "file_extension": ".py",
   "mimetype": "text/x-python",
   "name": "python",
   "nbconvert_exporter": "python",
   "pygments_lexer": "ipython3",
   "version": "3.9.7"
  },
  "orig_nbformat": 4
 },
 "nbformat": 4,
 "nbformat_minor": 2
}
