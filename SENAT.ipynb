{
 "cells": [
  {
   "cell_type": "code",
   "execution_count": null,
   "metadata": {},
   "outputs": [],
   "source": [
    "import powerindex as px\n",
    "import matplotlib.pyplot as plt\n",
    "import numpy as np"
   ]
  },
  {
   "attachments": {},
   "cell_type": "markdown",
   "metadata": {},
   "source": [
    "## Data"
   ]
  },
  {
   "cell_type": "code",
   "execution_count": null,
   "metadata": {},
   "outputs": [],
   "source": [
    "total_seats = 100\n",
    "simple_majority_threshold = 51"
   ]
  },
  {
   "cell_type": "code",
   "execution_count": null,
   "metadata": {},
   "outputs": [],
   "source": [
    "united_right = {\n",
    "    'seats': 46,\n",
    "    'arithmetic_power': 46/total_seats\n",
    "}\n",
    "\n",
    "civic_coalition = {\n",
    "    'seats': 40,\n",
    "    'arithmetic_power': 40/total_seats\n",
    "}\n",
    "\n",
    "polish_coalition = {\n",
    "    'seats': 4,\n",
    "    'arithmetic_power': 4/total_seats\n",
    "}\n",
    "\n",
    "others = {\n",
    "    'seats': 10,\n",
    "    'arithmetic_power': 10/total_seats\n",
    "}"
   ]
  },
  {
   "cell_type": "code",
   "execution_count": null,
   "metadata": {},
   "outputs": [],
   "source": [
    "parties_list = [united_right, civic_coalition, polish_coalition, others]"
   ]
  },
  {
   "cell_type": "code",
   "execution_count": null,
   "metadata": {},
   "outputs": [],
   "source": [
    "print(united_right)\n",
    "print(civic_coalition)\n",
    "print(polish_coalition)\n",
    "print(others)"
   ]
  },
  {
   "attachments": {},
   "cell_type": "markdown",
   "metadata": {},
   "source": [
    "## Example"
   ]
  },
  {
   "cell_type": "code",
   "execution_count": null,
   "metadata": {},
   "outputs": [],
   "source": [
    "game=px.Game(\n",
    "    quota=simple_majority_threshold,\n",
    "    weights=[\n",
    "            united_right['seats'],\n",
    "            civic_coalition['seats'],\n",
    "            polish_coalition['seats'],\n",
    "            others['seats']\n",
    "        ]\n",
    "    )\n",
    "    \n",
    "game.calc()\n",
    "print(\"Banzhaf index:\")\n",
    "print(game.banzhaf)\n",
    "print(\"Shapley-Shubik index:\")\n",
    "print(game.shapley_shubik)"
   ]
  },
  {
   "cell_type": "code",
   "execution_count": null,
   "metadata": {},
   "outputs": [],
   "source": [
    "for i, value in enumerate(game.banzhaf):\n",
    "    parties_list[i]['banzhaf_power'] = value"
   ]
  },
  {
   "cell_type": "code",
   "execution_count": null,
   "metadata": {},
   "outputs": [],
   "source": [
    "for i, value in enumerate(game.shapley_shubik):\n",
    "    parties_list[i]['shapley_shubik_power'] = value"
   ]
  },
  {
   "cell_type": "code",
   "execution_count": null,
   "metadata": {},
   "outputs": [],
   "source": [
    "print(united_right)\n",
    "print(civic_coalition)\n",
    "print(polish_coalition)\n",
    "print(others)"
   ]
  },
  {
   "cell_type": "code",
   "execution_count": null,
   "metadata": {},
   "outputs": [],
   "source": [
    "x = np.arange(4)\n",
    "y_arithmetic = [party['arithmetic_power'] for party in parties_list]\n",
    "y_banzhaf = [party['banzhaf_power'] for party in parties_list]\n",
    "y_shapley_shubik = [party['shapley_shubik_power'] for party in parties_list]\n",
    "width = 0.40"
   ]
  },
  {
   "cell_type": "code",
   "execution_count": null,
   "metadata": {},
   "outputs": [],
   "source": [
    "plt.bar(x-0.2, y_arithmetic, width)\n",
    "plt.bar(x+0.2, y_shapley_shubik, width)\n",
    "plt.legend(['Arithmetic power', 'Shapley-Shubik power'])"
   ]
  },
  {
   "cell_type": "code",
   "execution_count": null,
   "metadata": {},
   "outputs": [],
   "source": []
  }
 ],
 "metadata": {
  "interpreter": {
   "hash": "d1cdd3a6312bed8b258ae955b62335abc81c42bd084a8b7a08ade2405c52520c"
  },
  "kernelspec": {
   "display_name": "Python 3.9.7 ('venv': venv)",
   "language": "python",
   "name": "python3"
  },
  "language_info": {
   "codemirror_mode": {
    "name": "ipython",
    "version": 3
   },
   "file_extension": ".py",
   "mimetype": "text/x-python",
   "name": "python",
   "nbconvert_exporter": "python",
   "pygments_lexer": "ipython3",
   "version": "3.10.3"
  },
  "orig_nbformat": 4
 },
 "nbformat": 4,
 "nbformat_minor": 2
}
